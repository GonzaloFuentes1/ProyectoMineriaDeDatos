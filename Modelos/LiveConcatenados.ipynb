{
 "cells": [
  {
   "cell_type": "code",
   "execution_count": 3,
   "metadata": {},
   "outputs": [],
   "source": [
    "import pickle as pickle\n",
    "\n",
    "import pandas as pd\n",
    "\n",
    "import matplotlib.pyplot as plt\n",
    "import seaborn as sns\n",
    "\n",
    "import sklearn.preprocessing as preprocessing\n",
    "import sklearn.neural_network as nn\n",
    "import sklearn.svm as svm\n",
    "import sklearn.metrics as metrics"
   ]
  },
  {
   "cell_type": "code",
   "execution_count": 4,
   "metadata": {},
   "outputs": [],
   "source": [
    "def load_dataset(n):\n",
    "    data = pd.read_csv(f'Datasets/Duplicated{n}MeanPastMatches.csv')\n",
    "    diff_data = pd.DataFrame()\n",
    "    # Calculate diffs\n",
    "    cols = (\"age\", \"ht\", \"ace\", \"df\", \"svpt\", \"1stIn\", \"1stWon\", \"2ndWon\", \"SvGms\", \"bpSaved\", \"bpFaced\", \"rank\")\n",
    "    for col in cols:\n",
    "        diff_data[f'{n}_diff_{col}'] = data['player1_' + col] - data['player2_' + col]\n",
    "\n",
    "    return diff_data\n",
    "\n",
    "ns = range(1, 16)\n",
    "datasets = []\n",
    "for n in ns:\n",
    "    datasets.append(load_dataset(n))\n",
    "\n",
    "data = pd.concat(datasets, axis=1)\n",
    "quant_cols = data.columns\n",
    "\n",
    "first_dataset = pd.read_csv('Datasets/Duplicated1MeanPastMatches.csv')\n",
    "data['date'] = first_dataset['tourney_date']\n",
    "\n",
    "ohc = preprocessing.OneHotEncoder()\n",
    "surfaces = ohc.fit_transform(first_dataset['surface'].values.reshape((-1, 1))).toarray()\n",
    "surface_df = pd.DataFrame(surfaces, columns=['surface' + '_' + str(i) for i in range(surfaces.shape[1])])\n",
    "data = pd.concat([data, surface_df], axis=1)\n",
    "data['same_hand'] = (first_dataset['player1_hand'] == first_dataset['player2_hand']).astype(int)\n",
    "data['label'] = first_dataset['label']\n",
    "\n",
    "scaler = preprocessing.StandardScaler()\n",
    "data[quant_cols] = scaler.fit_transform(data[quant_cols])\n",
    "data = data.dropna()\n",
    "\n",
    "data_train = data[data['date'] < 20150101].drop('date', axis=1)\n",
    "data_val = data[(data['date'] >= 20150101) & (data['date'] < 20190101)].drop('date', axis=1)\n",
    "data_test = data[data['date'] >= 20190101].drop('date', axis=1)\n",
    "\n",
    "\n",
    "X_train = data_train.drop('label', axis=1)\n",
    "y_train = data_train['label']\n",
    "\n",
    "X_val = data_val.drop('label', axis=1)\n",
    "y_val = data_val['label']\n",
    "\n",
    "X_test = data_test.drop('label', axis=1)\n",
    "y_test = data_test['label']"
   ]
  },
  {
   "cell_type": "code",
   "execution_count": 6,
   "metadata": {},
   "outputs": [
    {
     "name": "stderr",
     "output_type": "stream",
     "text": [
      "/home/aurmeneta/IIC2433/ProyectoMineriaDeDatos/.venv/lib/python3.12/site-packages/sklearn/base.py:376: InconsistentVersionWarning: Trying to unpickle estimator LinearSVC from version 1.2.2 when using version 1.5.0. This might lead to breaking code or invalid results. Use at your own risk. For more info please refer to:\n",
      "https://scikit-learn.org/stable/model_persistence.html#security-maintainability-limitations\n",
      "  warnings.warn(\n"
     ]
    }
   ],
   "source": [
    "# Load models\n",
    "\n",
    "svm = pickle.load(open('./models/Full/concatenados/svm_model.pkl', 'rb'))\n",
    "svm_linear = pickle.load(open('./models/Full/concatenados/linear_svm.pkl', 'rb'))\n",
    "mlp = pickle.load(open('./models/Full/concatenados/mlp_model.pkl', 'rb'))"
   ]
  },
  {
   "cell_type": "code",
   "execution_count": 35,
   "metadata": {},
   "outputs": [
    {
     "data": {
      "text/plain": [
       "(137420    True\n",
       " Name: label, dtype: bool,\n",
       " 137420    False\n",
       " Name: label, dtype: bool,\n",
       " 137420    True\n",
       " Name: label, dtype: bool)"
      ]
     },
     "execution_count": 35,
     "metadata": {},
     "output_type": "execute_result"
    }
   ],
   "source": [
    "X = data_test.sample()\n",
    "x = X.drop('label', axis=1)\n",
    "y = X['label']\n",
    "\n",
    "mlp.predict(x) == y, svm.predict(x) == y, svm_linear.predict(x) == y"
   ]
  }
 ],
 "metadata": {
  "kernelspec": {
   "display_name": ".venv",
   "language": "python",
   "name": "python3"
  },
  "language_info": {
   "codemirror_mode": {
    "name": "ipython",
    "version": 3
   },
   "file_extension": ".py",
   "mimetype": "text/x-python",
   "name": "python",
   "nbconvert_exporter": "python",
   "pygments_lexer": "ipython3",
   "version": "3.12.3"
  }
 },
 "nbformat": 4,
 "nbformat_minor": 2
}
