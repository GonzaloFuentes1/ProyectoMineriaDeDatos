{
 "cells": [
  {
   "cell_type": "code",
   "execution_count": null,
   "metadata": {},
   "outputs": [],
   "source": [
    "import pandas as pd\n",
    "import os \n",
    "import seaborn as sns\n",
    "from copy import deepcopy\n",
    "from tqdm import tqdm\n",
    "\n",
    "from joblib import Parallel, delayed"
   ]
  },
  {
   "cell_type": "code",
   "execution_count": null,
   "metadata": {},
   "outputs": [],
   "source": [
    "# Seleccionar que años se van a tomar en cuenta, discutir esto\n",
    "years = [str(i) for i in range(1995, 2024)]\n",
    "\n",
    "datasets = []\n",
    "for year in years:\n",
    "    path = os.path.join(\"dataRaw\", \"atp_matches_\" + year)\n",
    "    dset = pd.read_csv(path + \".csv\")\n",
    "    datasets.append(dset)"
   ]
  },
  {
   "cell_type": "code",
   "execution_count": null,
   "metadata": {},
   "outputs": [],
   "source": [
    "df = pd.concat(datasets)\n",
    "df = df.reset_index(drop = True)\n",
    "df"
   ]
  },
  {
   "cell_type": "code",
   "execution_count": null,
   "metadata": {},
   "outputs": [],
   "source": [
    "# Selección de features\n",
    "df.isnull().sum()/len(df)"
   ]
  },
  {
   "cell_type": "code",
   "execution_count": null,
   "metadata": {},
   "outputs": [],
   "source": [
    "# Definir técnicas para rellenar datos, pero manteniendo una versión con datos clean.\n"
   ]
  },
  {
   "cell_type": "code",
   "execution_count": null,
   "metadata": {},
   "outputs": [],
   "source": [
    "# Viendo el año, podemos construir un set de testing, el siguiente número es el procentaje\n",
    "# del tamaño del testing en comparación al total.\n",
    "\n",
    "len(df[df[\"tourney_date\"] < 20150101])/len(df)"
   ]
  },
  {
   "cell_type": "code",
   "execution_count": null,
   "metadata": {},
   "outputs": [],
   "source": [
    "len(df[(df[\"tourney_date\"] >= 20150101) & (df[\"tourney_date\"] <= 20181231)])/len(df)"
   ]
  },
  {
   "cell_type": "code",
   "execution_count": null,
   "metadata": {},
   "outputs": [],
   "source": [
    "len(df[df[\"tourney_date\"] > 20190101])/len(df)"
   ]
  },
  {
   "cell_type": "markdown",
   "metadata": {},
   "source": [
    "### Que hacer para el avance \n",
    "\n",
    "- Decidir un espacio de tiempo, junto a que features a utilizar y como tratar los datos faltantes. XXX\n",
    "- Tratar features cualitativos. XXX\n",
    "- Detección de features altamente correlacionados.\n",
    "- Detección de outliers.\n",
    "- Definición del set de testeo, por posible problema de dependencia temporal.\n",
    "- Selección de modelos de clasificación a probar para predicción de resultados."
   ]
  },
  {
   "cell_type": "markdown",
   "metadata": {},
   "source": [
    "### Definir el dataset\n",
    "\n",
    "- Se usará los partidos del 2000 a 2017 como training.\n",
    "- Se usaran los datos de 2024 como validación.\n",
    "- Se usará los partidos del 2018 a 2023 como testing.\n"
   ]
  },
  {
   "cell_type": "code",
   "execution_count": null,
   "metadata": {},
   "outputs": [],
   "source": [
    "df.isnull().sum()/len(df)"
   ]
  },
  {
   "cell_type": "markdown",
   "metadata": {},
   "source": [
    "### No eliminar data, puesto que vamos a usar promedios."
   ]
  },
  {
   "cell_type": "code",
   "execution_count": null,
   "metadata": {},
   "outputs": [],
   "source": [
    "cuantitative_variables_names = df.select_dtypes([\"float\",\"int\"]).columns.tolist()\n",
    "df_corr = df[cuantitative_variables_names].corr()\n",
    "sns.heatmap(df_corr, cmap = \"rocket\")"
   ]
  },
  {
   "cell_type": "code",
   "execution_count": null,
   "metadata": {},
   "outputs": [],
   "source": [
    "# Features a usar\n",
    "\n",
    "featuresNoEntrenables = [\"winner_seed\", \"winner_entry\", \"loser_seed\", \"loser_entry\"\n",
    "                       \"minutes\", \"round\", \"score\", \"tourney_id\", \"tourney_name\"\n",
    "                       \"draw_size\", \"tourney_level\", \"tourney_date\", \"match_num\",\n",
    "                       \"winner_name\",\"loser_name\"]\n",
    "\n",
    "featuresDelMatch = [\"surface\", \"winner_hand\", \"loser_hand\", \"winner_age\",\n",
    "                    \"loser_age\", \"best_of\",\"tourney_date\"]\n",
    "\n",
    "# best_of debe ser categorico\n",
    "\n",
    "# featuresDeMatchPasados = #NUMERICOS\n"
   ]
  },
  {
   "cell_type": "code",
   "execution_count": null,
   "metadata": {},
   "outputs": [],
   "source": [
    "### Recopilar información de los n partidos hacia atras de cada jugador.\n",
    "def pastInfo(df, num_matches, i):\n",
    "\n",
    "    # Para la búsqueda de features\n",
    "    prefixes = ['winner_', \"w_\"]\n",
    "    filtered_columns_winner = [col for col in df.columns if any(col.startswith(prefix) for prefix in prefixes)]\n",
    "\n",
    "    prefixes = ['loser_', \"l_\"]\n",
    "    filtered_columns_loser = [col for col in df.columns if any(col.startswith(prefix) for prefix in prefixes)]\n",
    "    \n",
    "    # Solo partidos del 2000 en adelante\n",
    "    if df.iloc[i][\"tourney_date\"] < 20000101:\n",
    "        return pd.DataFrame()\n",
    "    winner_name = df.iloc[i].winner_name\n",
    "    loser_name = df.iloc[i].loser_name\n",
    "\n",
    "    # Partidos del ganador\n",
    "\n",
    "    dfAux = deepcopy(df.iloc[:i])\n",
    "    dfAux = dfAux[(dfAux.loser_name == winner_name)| (dfAux.winner_name == winner_name)].sort_values(by=[\"tourney_date\"], ignore_index=True)[-num_matches:]\n",
    "    dataWinner = []\n",
    "    for j in range(len(dfAux)):\n",
    "\n",
    "        if dfAux.iloc[j].winner_name == winner_name:\n",
    "            filterDrop = dfAux.iloc[j][filtered_columns_winner].drop([\"winner_hand\",\"winner_age\", \"winner_ioc\", \"winner_name\",\"winner_entry\",\"winner_id\",\"winner_seed\"], axis = 0)\n",
    "            data = pd.DataFrame(filterDrop).T\n",
    "            newColumns = data.columns.str.replace(r'^(winner_|w_)', 'player1_', regex=True)\n",
    "            data.columns = newColumns\n",
    "            dataWinner.append(data)\n",
    "\n",
    "        elif dfAux.iloc[j].loser_name == winner_name:\n",
    "            filterDrop = dfAux.iloc[j][filtered_columns_loser].drop([\"loser_hand\",\"loser_age\", \"loser_ioc\", \"loser_name\",\"loser_entry\",\"loser_id\",\"loser_seed\"], axis = 0)\n",
    "            data = pd.DataFrame(filterDrop).T\n",
    "            newColumns = data.columns.str.replace(r'^(loser_|l_)', 'player1_', regex=True)\n",
    "            data.columns = newColumns\n",
    "            dataWinner.append(data)\n",
    "\n",
    "    # Partidos del perdedor\n",
    "\n",
    "    dfAux = deepcopy(df.iloc[:i])\n",
    "    dfAux = dfAux[(dfAux.loser_name == loser_name)| (dfAux.winner_name == loser_name)].sort_values(by=[\"tourney_date\"], ignore_index=True)[-num_matches:]\n",
    "    dataLoser = []\n",
    "    for j in range(len(dfAux)):\n",
    "        \n",
    "        if dfAux.iloc[j].winner_name == loser_name:\n",
    "            filterDrop = dfAux.iloc[j][filtered_columns_winner].drop([\"winner_hand\",\"winner_age\", \"winner_ioc\", \"winner_name\",\"winner_entry\",\"winner_id\",\"winner_seed\"], axis = 0)\n",
    "            data = pd.DataFrame(filterDrop).T\n",
    "            newColumns = data.columns.str.replace(r'^(winner_|w_)', 'player2_', regex=True)\n",
    "            data.columns = newColumns\n",
    "            dataLoser.append(data)\n",
    "\n",
    "        elif dfAux.iloc[j].loser_name == loser_name:\n",
    "            filterDrop = dfAux.iloc[j][filtered_columns_loser].drop([\"loser_hand\",\"loser_age\", \"loser_ioc\", \"loser_name\",\"loser_entry\",\"loser_id\",\"loser_seed\"], axis = 0)\n",
    "            data = pd.DataFrame(filterDrop).T\n",
    "            newColumns = data.columns.str.replace(r'^(loser_|l_)', 'player2_', regex=True)\n",
    "            data.columns = newColumns\n",
    "            dataLoser.append(data)\n",
    "    # Si no hay información suficiente del partido, pasar  OJO DECIDIR ESTO BIEN DESPUES################\n",
    "    if len(dataWinner) == 0 or len(dataLoser) == 0:\n",
    "        return pd.DataFrame()\n",
    "    dataWinner = pd.concat(dataWinner).mean().to_frame().T\n",
    "    dataLoser = pd.concat(dataLoser).mean().to_frame().T\n",
    "\n",
    "\n",
    "    dfAux = deepcopy(df.iloc[:i])\n",
    "    dfAuxWinnerWin = dfAux[(dfAux.winner_name == winner_name)]\n",
    "    dfAuxWinnerLoss = dfAux[(dfAux.loser_name == winner_name)]\n",
    "    dfAuxLoserWin = dfAux[(dfAux.winner_name == loser_name)]\n",
    "    dfAuxLoserLoss = dfAux[(dfAux.loser_name == loser_name)]\n",
    "\n",
    "    # Partidos ganados/perdidos por tipo de suelo\n",
    "    superficies = df[\"surface\"].unique()\n",
    "    for suelo in superficies:\n",
    "        dataWinner[f\"player1_Wins_On_{suelo}\"] = len(dfAuxWinnerWin[dfAuxWinnerWin.surface == suelo])\n",
    "        dataWinner[f\"player1_Loss_On_{suelo}\"] = len(dfAuxWinnerLoss[(dfAuxWinnerLoss.surface == suelo)])\n",
    "        dataLoser[f\"player2_Wins_On_{suelo}\"] = len(dfAuxLoserWin[dfAuxLoserWin.surface == suelo])\n",
    "        dataLoser[f\"player2_Loss_On_{suelo}\"] = len(dfAuxLoserLoss[(dfAuxLoserLoss.surface == suelo)])\n",
    "    \n",
    "    # Partidos ganados/perdidos por tipo de mano\n",
    "    manos = df[\"winner_hand\"].unique()\n",
    "    for mano in manos:\n",
    "        dataWinner[f\"player1_Wins_On_{mano}\"] = len(dfAuxWinnerWin[dfAuxWinnerWin.loser_hand == mano])\n",
    "        dataWinner[f\"player1_Loss_On_{mano}\"] = len(dfAuxWinnerLoss[(dfAuxWinnerLoss.winner_hand == mano)])\n",
    "        dataLoser[f\"player2_Wins_On_{mano}\"] = len(dfAuxLoserWin[dfAuxLoserWin.loser_hand == mano])\n",
    "        dataLoser[f\"player2_Loss_On_{mano}\"] = len(dfAuxLoserLoss[(dfAuxLoserLoss.winner_hand == mano)])\n",
    "\n",
    "    dataMatch = pd.DataFrame(df.iloc[i][featuresDelMatch]).T.reset_index(drop=True)\n",
    "    dataMatch.rename(columns={'winner_hand': 'player1_hand', \"loser_hand\": \"player2_hand\",\n",
    "                            \"winner_age\":\"player1_age\", \"loser_age\": \"player2_age\"}, inplace=True)\n",
    "    \n",
    "    dataFinal = pd.concat([dataMatch, dataWinner, dataLoser], axis = 1)\n",
    "    dataFinal[\"label\"] = 0\n",
    "    dataFinal[\"index\"] = i # Para poder identificar los datasets\n",
    "    return dataFinal"
   ]
  },
  {
   "cell_type": "code",
   "execution_count": null,
   "metadata": {},
   "outputs": [],
   "source": [
    "# Búsqueda serial\n",
    "nums = [15,14,13,12,11,10,9,8,7,6,5,4,3,2,1]\n",
    "for num_matches in nums:\n",
    "    resultado = []\n",
    "    for i in tqdm(range(len(df))):\n",
    "        resultado.append(pastInfo(df, num_matches, i))\n",
    "    dfTotal = pd.concat(resultado, axis = 0)\n",
    "    dfTotal.to_csv(f\"Datasets\\{num_matches}MeanPastMatches.csv\")"
   ]
  },
  {
   "cell_type": "code",
   "execution_count": null,
   "metadata": {},
   "outputs": [],
   "source": [
    "# Duplicarlos:\n",
    "nums = [1,2,3,4,5,6,7,8,9,10,11,12,13,14,15]\n",
    "for num_matches in nums:\n",
    "    file = pd.read_csv(f\"Datasets/{num_matches}MeanPastMatches.csv\")\n",
    "    file = file.drop(\"Unnamed: 0\", axis = 1)\n",
    "    # file.rename(columns={\"player2_hand.1\":\"player2_age\"}, inplace=True)\n",
    "\n",
    "    new_file = pd.DataFrame()\n",
    "\n",
    "    # Copiar la columna surface, la fecha, el label, la duración y el index para identificarlo.\n",
    "    new_file[\"surface\"] = file[\"surface\"]\n",
    "    new_file[\"tourney_date\"] = file[\"tourney_date\"]\n",
    "    new_file[\"label\"] = 1\n",
    "    new_file[\"best_of\"] = file[\"best_of\"]\n",
    "    new_file[\"index\"] = file[\"index\"]\n",
    "\n",
    "    columnas_intercambiables = [\"hand\",\"age\", \"ht\", \"ace\", \"df\", \"svpt\", \"1stIn\", \"1stWon\", \"2ndWon\", \"SvGms\", \"bpSaved\", \"bpFaced\", \"rank\", \"rank_points\"]\n",
    "\n",
    "    superficies = df[\"surface\"].unique()\n",
    "    manos = df[\"winner_hand\"].unique()\n",
    "    \n",
    "    for suelo in superficies:\n",
    "        columnas_intercambiables.append(f\"Wins_On_{suelo}\")\n",
    "        columnas_intercambiables.append(f\"Loss_On_{suelo}\")\n",
    "    for mano in manos:\n",
    "        columnas_intercambiables.append(f\"Wins_On_{mano}\")\n",
    "        columnas_intercambiables.append(f\"Loss_On_{mano}\")\n",
    "        \n",
    "    \n",
    "    for columna in columnas_intercambiables:\n",
    "        nueva_columna_player1 = \"player1_\" + columna\n",
    "        nueva_columna_player2 = \"player2_\" + columna\n",
    "        new_file[nueva_columna_player2] = file[nueva_columna_player1]\n",
    "        new_file[nueva_columna_player1] = file[nueva_columna_player2]\n",
    "\n",
    "    # Si necesitas guardar el nuevo DataFrame en un archivo CSV\n",
    "    full = pd.merge(left= file, right = new_file, how=\"outer\" )\n",
    "\n",
    "    full.to_csv(f'duplicatedDatasets/Duplicated{num_matches}MeanPastMatches.csv', index=False)"
   ]
  },
  {
   "cell_type": "code",
   "execution_count": null,
   "metadata": {},
   "outputs": [],
   "source": []
  }
 ],
 "metadata": {
  "kernelspec": {
   "display_name": "Python 3",
   "language": "python",
   "name": "python3"
  },
  "language_info": {
   "codemirror_mode": {
    "name": "ipython",
    "version": 3
   },
   "file_extension": ".py",
   "mimetype": "text/x-python",
   "name": "python",
   "nbconvert_exporter": "python",
   "pygments_lexer": "ipython3",
   "version": "3.10.9"
  }
 },
 "nbformat": 4,
 "nbformat_minor": 2
}
